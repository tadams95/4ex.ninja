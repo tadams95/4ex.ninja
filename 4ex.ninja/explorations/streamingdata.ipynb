{
 "cells": [
  {
   "cell_type": "code",
   "execution_count": 1,
   "metadata": {},
   "outputs": [],
   "source": [
    "import sys\n",
    "\n",
    "sys.path.append(\"../\")\n",
    "import pandas as pd\n",
    "from config.settings import MONGO_CONNECTION_STRING\n",
    "\n",
    "from src.indicators.sma import calculate_sma\n",
    "from pymongo import MongoClient"
   ]
  },
  {
   "cell_type": "code",
   "execution_count": 2,
   "metadata": {},
   "outputs": [],
   "source": [
    "client = MongoClient(\n",
    "    MONGO_CONNECTION_STRING,\n",
    "    tls=True,\n",
    "    tlsAllowInvalidCertificates=True,  # For development only\n",
    "    # tlsCAFile='/Users/tyrelle/Desktop/4ex.ninja/4ex.ninja/config/global-bundle.pem'\n",
    ")"
   ]
  },
  {
   "cell_type": "code",
   "execution_count": 3,
   "metadata": {},
   "outputs": [],
   "source": [
    "db = client[\"streamed_prices\"]\n",
    "collections = db.list_collection_names()"
   ]
  },
  {
   "cell_type": "code",
   "execution_count": 4,
   "metadata": {},
   "outputs": [
    {
     "data": {
      "text/plain": [
       "['EUR_GBP_H4',\n",
       " 'EUR_GBP_D',\n",
       " 'GBP_JPY_H4',\n",
       " 'GBP_USD_D',\n",
       " 'USD_CAD_D',\n",
       " 'EUR_USD_H4',\n",
       " 'USD_CAD_H4',\n",
       " 'NZD_USD_H4',\n",
       " 'AUD_USD_H4',\n",
       " 'GBP_JPY_D',\n",
       " 'AUD_USD_D',\n",
       " 'USD_JPY_H4',\n",
       " 'USD_JPY_D',\n",
       " 'NZD_USD_D',\n",
       " 'GBP_USD_H4',\n",
       " 'EUR_USD_D']"
      ]
     },
     "execution_count": 4,
     "metadata": {},
     "output_type": "execute_result"
    }
   ],
   "source": [
    "collections"
   ]
  },
  {
   "cell_type": "code",
   "execution_count": 11,
   "metadata": {},
   "outputs": [],
   "source": [
    "# Choose a collection (for example AUD_USD_H4)\n",
    "collection_name = \"AUD_USD_H4\"\n",
    "collection = db[collection_name]\n"
   ]
  },
  {
   "cell_type": "code",
   "execution_count": 12,
   "metadata": {},
   "outputs": [],
   "source": [
    "df = pd.DataFrame(list(collection.find()))"
   ]
  },
  {
   "cell_type": "code",
   "execution_count": 13,
   "metadata": {},
   "outputs": [
    {
     "data": {
      "text/html": [
       "<div>\n",
       "<style scoped>\n",
       "    .dataframe tbody tr th:only-of-type {\n",
       "        vertical-align: middle;\n",
       "    }\n",
       "\n",
       "    .dataframe tbody tr th {\n",
       "        vertical-align: top;\n",
       "    }\n",
       "\n",
       "    .dataframe thead th {\n",
       "        text-align: right;\n",
       "    }\n",
       "</style>\n",
       "<table border=\"1\" class=\"dataframe\">\n",
       "  <thead>\n",
       "    <tr style=\"text-align: right;\">\n",
       "      <th></th>\n",
       "      <th>_id</th>\n",
       "      <th>instrument</th>\n",
       "      <th>time</th>\n",
       "      <th>open</th>\n",
       "      <th>high</th>\n",
       "      <th>low</th>\n",
       "      <th>close</th>\n",
       "      <th>volume</th>\n",
       "      <th>complete</th>\n",
       "      <th>mid</th>\n",
       "    </tr>\n",
       "  </thead>\n",
       "  <tbody>\n",
       "    <tr>\n",
       "      <th>218</th>\n",
       "      <td>67bbf256ef10d0977955ec4c</td>\n",
       "      <td>AUD_USD</td>\n",
       "      <td>2025-02-23T22:00:00.000000000Z</td>\n",
       "      <td>NaN</td>\n",
       "      <td>NaN</td>\n",
       "      <td>NaN</td>\n",
       "      <td>NaN</td>\n",
       "      <td>12275</td>\n",
       "      <td>True</td>\n",
       "      <td>{'o': '0.63612', 'h': '0.63768', 'l': '0.63612...</td>\n",
       "    </tr>\n",
       "    <tr>\n",
       "      <th>219</th>\n",
       "      <td>67bce60ce7f9181f48e23425</td>\n",
       "      <td>AUD_USD</td>\n",
       "      <td>2025-02-24T02:00:00.000000000Z</td>\n",
       "      <td>NaN</td>\n",
       "      <td>NaN</td>\n",
       "      <td>NaN</td>\n",
       "      <td>NaN</td>\n",
       "      <td>13237</td>\n",
       "      <td>True</td>\n",
       "      <td>{'o': '0.63697', 'h': '0.63922', 'l': '0.63680...</td>\n",
       "    </tr>\n",
       "    <tr>\n",
       "      <th>220</th>\n",
       "      <td>67bce60ce7f9181f48e23426</td>\n",
       "      <td>AUD_USD</td>\n",
       "      <td>2025-02-24T06:00:00.000000000Z</td>\n",
       "      <td>NaN</td>\n",
       "      <td>NaN</td>\n",
       "      <td>NaN</td>\n",
       "      <td>NaN</td>\n",
       "      <td>17515</td>\n",
       "      <td>True</td>\n",
       "      <td>{'o': '0.63767', 'h': '0.63821', 'l': '0.63609...</td>\n",
       "    </tr>\n",
       "    <tr>\n",
       "      <th>221</th>\n",
       "      <td>67bce60ce7f9181f48e23427</td>\n",
       "      <td>AUD_USD</td>\n",
       "      <td>2025-02-24T10:00:00.000000000Z</td>\n",
       "      <td>NaN</td>\n",
       "      <td>NaN</td>\n",
       "      <td>NaN</td>\n",
       "      <td>NaN</td>\n",
       "      <td>12453</td>\n",
       "      <td>True</td>\n",
       "      <td>{'o': '0.63656', 'h': '0.63719', 'l': '0.63604...</td>\n",
       "    </tr>\n",
       "    <tr>\n",
       "      <th>222</th>\n",
       "      <td>67bce60ce7f9181f48e23428</td>\n",
       "      <td>AUD_USD</td>\n",
       "      <td>2025-02-24T14:00:00.000000000Z</td>\n",
       "      <td>NaN</td>\n",
       "      <td>NaN</td>\n",
       "      <td>NaN</td>\n",
       "      <td>NaN</td>\n",
       "      <td>21242</td>\n",
       "      <td>True</td>\n",
       "      <td>{'o': '0.63686', 'h': '0.63712', 'l': '0.63443...</td>\n",
       "    </tr>\n",
       "  </tbody>\n",
       "</table>\n",
       "</div>"
      ],
      "text/plain": [
       "                          _id instrument                            time  \\\n",
       "218  67bbf256ef10d0977955ec4c    AUD_USD  2025-02-23T22:00:00.000000000Z   \n",
       "219  67bce60ce7f9181f48e23425    AUD_USD  2025-02-24T02:00:00.000000000Z   \n",
       "220  67bce60ce7f9181f48e23426    AUD_USD  2025-02-24T06:00:00.000000000Z   \n",
       "221  67bce60ce7f9181f48e23427    AUD_USD  2025-02-24T10:00:00.000000000Z   \n",
       "222  67bce60ce7f9181f48e23428    AUD_USD  2025-02-24T14:00:00.000000000Z   \n",
       "\n",
       "     open  high  low  close  volume  complete  \\\n",
       "218   NaN   NaN  NaN    NaN   12275      True   \n",
       "219   NaN   NaN  NaN    NaN   13237      True   \n",
       "220   NaN   NaN  NaN    NaN   17515      True   \n",
       "221   NaN   NaN  NaN    NaN   12453      True   \n",
       "222   NaN   NaN  NaN    NaN   21242      True   \n",
       "\n",
       "                                                   mid  \n",
       "218  {'o': '0.63612', 'h': '0.63768', 'l': '0.63612...  \n",
       "219  {'o': '0.63697', 'h': '0.63922', 'l': '0.63680...  \n",
       "220  {'o': '0.63767', 'h': '0.63821', 'l': '0.63609...  \n",
       "221  {'o': '0.63656', 'h': '0.63719', 'l': '0.63604...  \n",
       "222  {'o': '0.63686', 'h': '0.63712', 'l': '0.63443...  "
      ]
     },
     "execution_count": 13,
     "metadata": {},
     "output_type": "execute_result"
    }
   ],
   "source": [
    "df.tail()"
   ]
  },
  {
   "cell_type": "code",
   "execution_count": null,
   "metadata": {},
   "outputs": [],
   "source": []
  }
 ],
 "metadata": {
  "kernelspec": {
   "display_name": "venv",
   "language": "python",
   "name": "python3"
  },
  "language_info": {
   "codemirror_mode": {
    "name": "ipython",
    "version": 3
   },
   "file_extension": ".py",
   "mimetype": "text/x-python",
   "name": "python",
   "nbconvert_exporter": "python",
   "pygments_lexer": "ipython3",
   "version": "3.13.1"
  }
 },
 "nbformat": 4,
 "nbformat_minor": 2
}
