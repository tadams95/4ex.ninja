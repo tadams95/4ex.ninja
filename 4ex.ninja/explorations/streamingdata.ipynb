{
 "cells": [
  {
   "cell_type": "code",
   "execution_count": 2,
   "metadata": {},
   "outputs": [],
   "source": [
    "import sys\n",
    "\n",
    "sys.path.append(\"../\")\n",
    "import pandas as pd\n",
    "from config.settings import MONGO_CONNECTION_STRING\n",
    "\n",
    "from src.indicators.sma import calculate_sma\n",
    "from pymongo import MongoClient"
   ]
  },
  {
   "cell_type": "code",
   "execution_count": 3,
   "metadata": {},
   "outputs": [],
   "source": [
    "client = MongoClient(\n",
    "    MONGO_CONNECTION_STRING,\n",
    "    tls=True,\n",
    "    tlsAllowInvalidCertificates=True,  # For development only\n",
    "    # tlsCAFile='/Users/tyrelle/Desktop/4ex.ninja/4ex.ninja/config/global-bundle.pem'\n",
    ")"
   ]
  },
  {
   "cell_type": "code",
   "execution_count": 4,
   "metadata": {},
   "outputs": [],
   "source": [
    "db = client[\"streamed_prices\"]\n",
    "collections = db.list_collection_names()"
   ]
  },
  {
   "cell_type": "code",
   "execution_count": 5,
   "metadata": {},
   "outputs": [],
   "source": [
    "# Choose a collection (for example AUD_USD_H4)\n",
    "collection_name = \"EUR_USD_H4\"\n",
    "collection = db[collection_name]\n"
   ]
  },
  {
   "cell_type": "code",
   "execution_count": 6,
   "metadata": {},
   "outputs": [],
   "source": [
    "df = pd.DataFrame(list(collection.find()))"
   ]
  },
  {
   "cell_type": "code",
   "execution_count": 7,
   "metadata": {},
   "outputs": [
    {
     "data": {
      "text/html": [
       "<div>\n",
       "<style scoped>\n",
       "    .dataframe tbody tr th:only-of-type {\n",
       "        vertical-align: middle;\n",
       "    }\n",
       "\n",
       "    .dataframe tbody tr th {\n",
       "        vertical-align: top;\n",
       "    }\n",
       "\n",
       "    .dataframe thead th {\n",
       "        text-align: right;\n",
       "    }\n",
       "</style>\n",
       "<table border=\"1\" class=\"dataframe\">\n",
       "  <thead>\n",
       "    <tr style=\"text-align: right;\">\n",
       "      <th></th>\n",
       "      <th>_id</th>\n",
       "      <th>time</th>\n",
       "      <th>close</th>\n",
       "      <th>complete</th>\n",
       "      <th>high</th>\n",
       "      <th>instrument</th>\n",
       "      <th>low</th>\n",
       "      <th>mid</th>\n",
       "      <th>open</th>\n",
       "      <th>volume</th>\n",
       "    </tr>\n",
       "  </thead>\n",
       "  <tbody>\n",
       "    <tr>\n",
       "      <th>200</th>\n",
       "      <td>67bd9d94e7f9181f48e298ec</td>\n",
       "      <td>2025-02-25T06:00:00.000000000Z</td>\n",
       "      <td>1.04732</td>\n",
       "      <td>True</td>\n",
       "      <td>1.04802</td>\n",
       "      <td>EUR_USD</td>\n",
       "      <td>1.04563</td>\n",
       "      <td>{'o': '1.04769', 'h': '1.04802', 'l': '1.04563...</td>\n",
       "      <td>1.04769</td>\n",
       "      <td>31949</td>\n",
       "    </tr>\n",
       "    <tr>\n",
       "      <th>201</th>\n",
       "      <td>67bdd5d4e7f9181f48e2ac02</td>\n",
       "      <td>2025-02-25T10:00:00.000000000Z</td>\n",
       "      <td>1.05002</td>\n",
       "      <td>True</td>\n",
       "      <td>1.05098</td>\n",
       "      <td>EUR_USD</td>\n",
       "      <td>1.04653</td>\n",
       "      <td>{'o': '1.04732', 'h': '1.05098', 'l': '1.04653...</td>\n",
       "      <td>1.04732</td>\n",
       "      <td>28540</td>\n",
       "    </tr>\n",
       "    <tr>\n",
       "      <th>202</th>\n",
       "      <td>67be0e15e7f9181f48e2c12b</td>\n",
       "      <td>2025-02-25T14:00:00.000000000Z</td>\n",
       "      <td>1.05024</td>\n",
       "      <td>True</td>\n",
       "      <td>1.05194</td>\n",
       "      <td>EUR_USD</td>\n",
       "      <td>1.04840</td>\n",
       "      <td>{'o': '1.05003', 'h': '1.05194', 'l': '1.04840...</td>\n",
       "      <td>1.05003</td>\n",
       "      <td>40814</td>\n",
       "    </tr>\n",
       "    <tr>\n",
       "      <th>203</th>\n",
       "      <td>67be4656e7f9181f48e2d5fe</td>\n",
       "      <td>2025-02-25T18:00:00.000000000Z</td>\n",
       "      <td>1.05149</td>\n",
       "      <td>True</td>\n",
       "      <td>1.05191</td>\n",
       "      <td>EUR_USD</td>\n",
       "      <td>1.05023</td>\n",
       "      <td>{'o': '1.05024', 'h': '1.05191', 'l': '1.05023...</td>\n",
       "      <td>1.05024</td>\n",
       "      <td>19277</td>\n",
       "    </tr>\n",
       "    <tr>\n",
       "      <th>204</th>\n",
       "      <td>67be7e97e7f9181f48e2fef8</td>\n",
       "      <td>2025-02-25T22:00:00.000000000Z</td>\n",
       "      <td>1.05153</td>\n",
       "      <td>True</td>\n",
       "      <td>1.05250</td>\n",
       "      <td>EUR_USD</td>\n",
       "      <td>1.05128</td>\n",
       "      <td>{'o': '1.05157', 'h': '1.05250', 'l': '1.05128...</td>\n",
       "      <td>1.05157</td>\n",
       "      <td>12610</td>\n",
       "    </tr>\n",
       "  </tbody>\n",
       "</table>\n",
       "</div>"
      ],
      "text/plain": [
       "                          _id                            time    close  \\\n",
       "200  67bd9d94e7f9181f48e298ec  2025-02-25T06:00:00.000000000Z  1.04732   \n",
       "201  67bdd5d4e7f9181f48e2ac02  2025-02-25T10:00:00.000000000Z  1.05002   \n",
       "202  67be0e15e7f9181f48e2c12b  2025-02-25T14:00:00.000000000Z  1.05024   \n",
       "203  67be4656e7f9181f48e2d5fe  2025-02-25T18:00:00.000000000Z  1.05149   \n",
       "204  67be7e97e7f9181f48e2fef8  2025-02-25T22:00:00.000000000Z  1.05153   \n",
       "\n",
       "     complete     high instrument      low  \\\n",
       "200      True  1.04802    EUR_USD  1.04563   \n",
       "201      True  1.05098    EUR_USD  1.04653   \n",
       "202      True  1.05194    EUR_USD  1.04840   \n",
       "203      True  1.05191    EUR_USD  1.05023   \n",
       "204      True  1.05250    EUR_USD  1.05128   \n",
       "\n",
       "                                                   mid     open  volume  \n",
       "200  {'o': '1.04769', 'h': '1.04802', 'l': '1.04563...  1.04769   31949  \n",
       "201  {'o': '1.04732', 'h': '1.05098', 'l': '1.04653...  1.04732   28540  \n",
       "202  {'o': '1.05003', 'h': '1.05194', 'l': '1.04840...  1.05003   40814  \n",
       "203  {'o': '1.05024', 'h': '1.05191', 'l': '1.05023...  1.05024   19277  \n",
       "204  {'o': '1.05157', 'h': '1.05250', 'l': '1.05128...  1.05157   12610  "
      ]
     },
     "execution_count": 7,
     "metadata": {},
     "output_type": "execute_result"
    }
   ],
   "source": [
    "df.tail()"
   ]
  },
  {
   "cell_type": "code",
   "execution_count": null,
   "metadata": {},
   "outputs": [],
   "source": []
  }
 ],
 "metadata": {
  "kernelspec": {
   "display_name": "venv",
   "language": "python",
   "name": "python3"
  },
  "language_info": {
   "codemirror_mode": {
    "name": "ipython",
    "version": 3
   },
   "file_extension": ".py",
   "mimetype": "text/x-python",
   "name": "python",
   "nbconvert_exporter": "python",
   "pygments_lexer": "ipython3",
   "version": "3.13.1"
  }
 },
 "nbformat": 4,
 "nbformat_minor": 2
}
