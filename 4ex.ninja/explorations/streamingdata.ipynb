{
 "cells": [
  {
   "cell_type": "code",
   "execution_count": 24,
   "metadata": {},
   "outputs": [],
   "source": [
    "import sys\n",
    "\n",
    "sys.path.append(\"../\")\n",
    "import pandas as pd\n",
    "from config.settings import MONGO_CONNECTION_STRING\n",
    "\n",
    "from src.indicators.sma import calculate_sma\n",
    "from pymongo import MongoClient"
   ]
  },
  {
   "cell_type": "code",
   "execution_count": 25,
   "metadata": {},
   "outputs": [],
   "source": [
    "client = MongoClient(\n",
    "    MONGO_CONNECTION_STRING,\n",
    "    tls=True,\n",
    "    tlsAllowInvalidCertificates=True,  # For development only\n",
    "    # tlsCAFile='/Users/tyrelle/Desktop/4ex.ninja/4ex.ninja/config/global-bundle.pem'\n",
    ")"
   ]
  },
  {
   "cell_type": "code",
   "execution_count": 31,
   "metadata": {},
   "outputs": [],
   "source": [
    "db = client[\"streamed_prices\"]\n",
    "collections = db.list_collection_names()"
   ]
  },
  {
   "cell_type": "code",
   "execution_count": 35,
   "metadata": {},
   "outputs": [],
   "source": [
    "# Choose a collection (for example AUD_USD_H4)\n",
    "collection_name = \"EUR_USD_H4\"\n",
    "collection = db[collection_name]\n"
   ]
  },
  {
   "cell_type": "code",
   "execution_count": 36,
   "metadata": {},
   "outputs": [],
   "source": [
    "df = pd.DataFrame(list(collection.find()))"
   ]
  },
  {
   "cell_type": "code",
   "execution_count": 37,
   "metadata": {},
   "outputs": [
    {
     "data": {
      "text/html": [
       "<div>\n",
       "<style scoped>\n",
       "    .dataframe tbody tr th:only-of-type {\n",
       "        vertical-align: middle;\n",
       "    }\n",
       "\n",
       "    .dataframe tbody tr th {\n",
       "        vertical-align: top;\n",
       "    }\n",
       "\n",
       "    .dataframe thead th {\n",
       "        text-align: right;\n",
       "    }\n",
       "</style>\n",
       "<table border=\"1\" class=\"dataframe\">\n",
       "  <thead>\n",
       "    <tr style=\"text-align: right;\">\n",
       "      <th></th>\n",
       "      <th>_id</th>\n",
       "      <th>time</th>\n",
       "      <th>close</th>\n",
       "      <th>complete</th>\n",
       "      <th>high</th>\n",
       "      <th>instrument</th>\n",
       "      <th>low</th>\n",
       "      <th>mid</th>\n",
       "      <th>open</th>\n",
       "      <th>volume</th>\n",
       "    </tr>\n",
       "  </thead>\n",
       "  <tbody>\n",
       "    <tr>\n",
       "      <th>194</th>\n",
       "      <td>67bd2cebe7f9181f48e2750a</td>\n",
       "      <td>2025-02-24T06:00:00.000000000Z</td>\n",
       "      <td>1.04722</td>\n",
       "      <td>True</td>\n",
       "      <td>1.05164</td>\n",
       "      <td>EUR_USD</td>\n",
       "      <td>1.04690</td>\n",
       "      <td>{'o': '1.05164', 'h': '1.05164', 'l': '1.04690...</td>\n",
       "      <td>1.05164</td>\n",
       "      <td>34143</td>\n",
       "    </tr>\n",
       "    <tr>\n",
       "      <th>195</th>\n",
       "      <td>67bd2cebe7f9181f48e2750b</td>\n",
       "      <td>2025-02-24T10:00:00.000000000Z</td>\n",
       "      <td>1.04670</td>\n",
       "      <td>True</td>\n",
       "      <td>1.04814</td>\n",
       "      <td>EUR_USD</td>\n",
       "      <td>1.04603</td>\n",
       "      <td>{'o': '1.04720', 'h': '1.04814', 'l': '1.04603...</td>\n",
       "      <td>1.04720</td>\n",
       "      <td>25265</td>\n",
       "    </tr>\n",
       "    <tr>\n",
       "      <th>196</th>\n",
       "      <td>67bd2cebe7f9181f48e2750c</td>\n",
       "      <td>2025-02-24T14:00:00.000000000Z</td>\n",
       "      <td>1.04725</td>\n",
       "      <td>True</td>\n",
       "      <td>1.04838</td>\n",
       "      <td>EUR_USD</td>\n",
       "      <td>1.04528</td>\n",
       "      <td>{'o': '1.04668', 'h': '1.04838', 'l': '1.04528...</td>\n",
       "      <td>1.04668</td>\n",
       "      <td>36159</td>\n",
       "    </tr>\n",
       "    <tr>\n",
       "      <th>197</th>\n",
       "      <td>67bd2cebe7f9181f48e2750d</td>\n",
       "      <td>2025-02-24T18:00:00.000000000Z</td>\n",
       "      <td>1.04682</td>\n",
       "      <td>True</td>\n",
       "      <td>1.04860</td>\n",
       "      <td>EUR_USD</td>\n",
       "      <td>1.04619</td>\n",
       "      <td>{'o': '1.04724', 'h': '1.04860', 'l': '1.04619...</td>\n",
       "      <td>1.04724</td>\n",
       "      <td>23460</td>\n",
       "    </tr>\n",
       "    <tr>\n",
       "      <th>198</th>\n",
       "      <td>67bd2cebe7f9181f48e2750e</td>\n",
       "      <td>2025-02-24T22:00:00.000000000Z</td>\n",
       "      <td>1.04652</td>\n",
       "      <td>True</td>\n",
       "      <td>1.04706</td>\n",
       "      <td>EUR_USD</td>\n",
       "      <td>1.04598</td>\n",
       "      <td>{'o': '1.04690', 'h': '1.04706', 'l': '1.04598...</td>\n",
       "      <td>1.04690</td>\n",
       "      <td>10152</td>\n",
       "    </tr>\n",
       "  </tbody>\n",
       "</table>\n",
       "</div>"
      ],
      "text/plain": [
       "                          _id                            time    close  \\\n",
       "194  67bd2cebe7f9181f48e2750a  2025-02-24T06:00:00.000000000Z  1.04722   \n",
       "195  67bd2cebe7f9181f48e2750b  2025-02-24T10:00:00.000000000Z  1.04670   \n",
       "196  67bd2cebe7f9181f48e2750c  2025-02-24T14:00:00.000000000Z  1.04725   \n",
       "197  67bd2cebe7f9181f48e2750d  2025-02-24T18:00:00.000000000Z  1.04682   \n",
       "198  67bd2cebe7f9181f48e2750e  2025-02-24T22:00:00.000000000Z  1.04652   \n",
       "\n",
       "     complete     high instrument      low  \\\n",
       "194      True  1.05164    EUR_USD  1.04690   \n",
       "195      True  1.04814    EUR_USD  1.04603   \n",
       "196      True  1.04838    EUR_USD  1.04528   \n",
       "197      True  1.04860    EUR_USD  1.04619   \n",
       "198      True  1.04706    EUR_USD  1.04598   \n",
       "\n",
       "                                                   mid     open  volume  \n",
       "194  {'o': '1.05164', 'h': '1.05164', 'l': '1.04690...  1.05164   34143  \n",
       "195  {'o': '1.04720', 'h': '1.04814', 'l': '1.04603...  1.04720   25265  \n",
       "196  {'o': '1.04668', 'h': '1.04838', 'l': '1.04528...  1.04668   36159  \n",
       "197  {'o': '1.04724', 'h': '1.04860', 'l': '1.04619...  1.04724   23460  \n",
       "198  {'o': '1.04690', 'h': '1.04706', 'l': '1.04598...  1.04690   10152  "
      ]
     },
     "execution_count": 37,
     "metadata": {},
     "output_type": "execute_result"
    }
   ],
   "source": [
    "df.tail()"
   ]
  },
  {
   "cell_type": "code",
   "execution_count": null,
   "metadata": {},
   "outputs": [],
   "source": []
  }
 ],
 "metadata": {
  "kernelspec": {
   "display_name": "venv",
   "language": "python",
   "name": "python3"
  },
  "language_info": {
   "codemirror_mode": {
    "name": "ipython",
    "version": 3
   },
   "file_extension": ".py",
   "mimetype": "text/x-python",
   "name": "python",
   "nbconvert_exporter": "python",
   "pygments_lexer": "ipython3",
   "version": "3.13.1"
  }
 },
 "nbformat": 4,
 "nbformat_minor": 2
}
