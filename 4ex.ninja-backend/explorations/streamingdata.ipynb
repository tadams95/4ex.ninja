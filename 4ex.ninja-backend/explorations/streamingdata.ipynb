{
 "cells": [
  {
   "cell_type": "code",
   "execution_count": 1,
   "metadata": {},
   "outputs": [],
   "source": [
    "import sys\n",
    "\n",
    "sys.path.append(\"../\")\n",
    "import pandas as pd\n",
    "from config.settings import MONGO_CONNECTION_STRING\n",
    "\n",
    "from src.indicators.sma import calculate_sma\n",
    "from pymongo import MongoClient"
   ]
  },
  {
   "cell_type": "code",
   "execution_count": 2,
   "metadata": {},
   "outputs": [],
   "source": [
    "client = MongoClient(\n",
    "    MONGO_CONNECTION_STRING,\n",
    "    tls=True,\n",
    "    tlsAllowInvalidCertificates=True,  # For development only\n",
    "    # tlsCAFile='/Users/tyrelle/Desktop/4ex.ninja/4ex.ninja/config/global-bundle.pem'\n",
    ")"
   ]
  },
  {
   "cell_type": "code",
   "execution_count": 3,
   "metadata": {},
   "outputs": [],
   "source": [
    "db = client[\"streamed_prices\"]\n",
    "collections = db.list_collection_names()"
   ]
  },
  {
   "cell_type": "code",
   "execution_count": 4,
   "metadata": {},
   "outputs": [],
   "source": [
    "# Choose a collection (for example AUD_USD_H4)\n",
    "collection_name = \"EUR_USD_H4\"\n",
    "collection = db[collection_name]\n"
   ]
  },
  {
   "cell_type": "code",
   "execution_count": 6,
   "metadata": {},
   "outputs": [],
   "source": [
    "df = pd.DataFrame(list(collection.find()))"
   ]
  },
  {
   "cell_type": "code",
   "execution_count": 7,
   "metadata": {},
   "outputs": [
    {
     "data": {
      "text/html": [
       "<div>\n",
       "<style scoped>\n",
       "    .dataframe tbody tr th:only-of-type {\n",
       "        vertical-align: middle;\n",
       "    }\n",
       "\n",
       "    .dataframe tbody tr th {\n",
       "        vertical-align: top;\n",
       "    }\n",
       "\n",
       "    .dataframe thead th {\n",
       "        text-align: right;\n",
       "    }\n",
       "</style>\n",
       "<table border=\"1\" class=\"dataframe\">\n",
       "  <thead>\n",
       "    <tr style=\"text-align: right;\">\n",
       "      <th></th>\n",
       "      <th>_id</th>\n",
       "      <th>time</th>\n",
       "      <th>close</th>\n",
       "      <th>complete</th>\n",
       "      <th>high</th>\n",
       "      <th>instrument</th>\n",
       "      <th>low</th>\n",
       "      <th>mid</th>\n",
       "      <th>open</th>\n",
       "      <th>volume</th>\n",
       "    </tr>\n",
       "  </thead>\n",
       "  <tbody>\n",
       "    <tr>\n",
       "      <th>205</th>\n",
       "      <td>67beb6d7e7f9181f48e30b78</td>\n",
       "      <td>2025-02-26T02:00:00.000000000Z</td>\n",
       "      <td>1.04915</td>\n",
       "      <td>True</td>\n",
       "      <td>1.05170</td>\n",
       "      <td>EUR_USD</td>\n",
       "      <td>1.04904</td>\n",
       "      <td>{'o': '1.05154', 'h': '1.05170', 'l': '1.04904...</td>\n",
       "      <td>1.05154</td>\n",
       "      <td>15386</td>\n",
       "    </tr>\n",
       "    <tr>\n",
       "      <th>206</th>\n",
       "      <td>67beef18e7f9181f48e31638</td>\n",
       "      <td>2025-02-26T06:00:00.000000000Z</td>\n",
       "      <td>1.04972</td>\n",
       "      <td>True</td>\n",
       "      <td>1.05117</td>\n",
       "      <td>EUR_USD</td>\n",
       "      <td>1.04872</td>\n",
       "      <td>{'o': '1.04916', 'h': '1.05117', 'l': '1.04872...</td>\n",
       "      <td>1.04916</td>\n",
       "      <td>26808</td>\n",
       "    </tr>\n",
       "    <tr>\n",
       "      <th>207</th>\n",
       "      <td>67bf275be7f9181f48e33779</td>\n",
       "      <td>2025-02-26T10:00:00.000000000Z</td>\n",
       "      <td>1.04842</td>\n",
       "      <td>True</td>\n",
       "      <td>1.05022</td>\n",
       "      <td>EUR_USD</td>\n",
       "      <td>1.04750</td>\n",
       "      <td>{'o': '1.04971', 'h': '1.05022', 'l': '1.04750...</td>\n",
       "      <td>1.04971</td>\n",
       "      <td>26982</td>\n",
       "    </tr>\n",
       "    <tr>\n",
       "      <th>208</th>\n",
       "      <td>67bf5f9ce7f9181f48e36c7c</td>\n",
       "      <td>2025-02-26T14:00:00.000000000Z</td>\n",
       "      <td>1.04924</td>\n",
       "      <td>True</td>\n",
       "      <td>1.05290</td>\n",
       "      <td>EUR_USD</td>\n",
       "      <td>1.04795</td>\n",
       "      <td>{'o': '1.04842', 'h': '1.05290', 'l': '1.04795...</td>\n",
       "      <td>1.04842</td>\n",
       "      <td>52382</td>\n",
       "    </tr>\n",
       "    <tr>\n",
       "      <th>209</th>\n",
       "      <td>67bf97dce7f9181f48e397bf</td>\n",
       "      <td>2025-02-26T18:00:00.000000000Z</td>\n",
       "      <td>1.04850</td>\n",
       "      <td>True</td>\n",
       "      <td>1.05004</td>\n",
       "      <td>EUR_USD</td>\n",
       "      <td>1.04784</td>\n",
       "      <td>{'o': '1.04924', 'h': '1.05004', 'l': '1.04784...</td>\n",
       "      <td>1.04924</td>\n",
       "      <td>26450</td>\n",
       "    </tr>\n",
       "  </tbody>\n",
       "</table>\n",
       "</div>"
      ],
      "text/plain": [
       "                          _id                            time    close  \\\n",
       "205  67beb6d7e7f9181f48e30b78  2025-02-26T02:00:00.000000000Z  1.04915   \n",
       "206  67beef18e7f9181f48e31638  2025-02-26T06:00:00.000000000Z  1.04972   \n",
       "207  67bf275be7f9181f48e33779  2025-02-26T10:00:00.000000000Z  1.04842   \n",
       "208  67bf5f9ce7f9181f48e36c7c  2025-02-26T14:00:00.000000000Z  1.04924   \n",
       "209  67bf97dce7f9181f48e397bf  2025-02-26T18:00:00.000000000Z  1.04850   \n",
       "\n",
       "     complete     high instrument      low  \\\n",
       "205      True  1.05170    EUR_USD  1.04904   \n",
       "206      True  1.05117    EUR_USD  1.04872   \n",
       "207      True  1.05022    EUR_USD  1.04750   \n",
       "208      True  1.05290    EUR_USD  1.04795   \n",
       "209      True  1.05004    EUR_USD  1.04784   \n",
       "\n",
       "                                                   mid     open  volume  \n",
       "205  {'o': '1.05154', 'h': '1.05170', 'l': '1.04904...  1.05154   15386  \n",
       "206  {'o': '1.04916', 'h': '1.05117', 'l': '1.04872...  1.04916   26808  \n",
       "207  {'o': '1.04971', 'h': '1.05022', 'l': '1.04750...  1.04971   26982  \n",
       "208  {'o': '1.04842', 'h': '1.05290', 'l': '1.04795...  1.04842   52382  \n",
       "209  {'o': '1.04924', 'h': '1.05004', 'l': '1.04784...  1.04924   26450  "
      ]
     },
     "execution_count": 7,
     "metadata": {},
     "output_type": "execute_result"
    }
   ],
   "source": [
    "df.tail()"
   ]
  },
  {
   "cell_type": "code",
   "execution_count": null,
   "metadata": {},
   "outputs": [],
   "source": []
  }
 ],
 "metadata": {
  "kernelspec": {
   "display_name": "venv",
   "language": "python",
   "name": "python3"
  },
  "language_info": {
   "codemirror_mode": {
    "name": "ipython",
    "version": 3
   },
   "file_extension": ".py",
   "mimetype": "text/x-python",
   "name": "python",
   "nbconvert_exporter": "python",
   "pygments_lexer": "ipython3",
   "version": "3.13.1"
  }
 },
 "nbformat": 4,
 "nbformat_minor": 2
}
